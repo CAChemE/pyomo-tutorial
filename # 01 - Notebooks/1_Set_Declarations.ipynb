{
 "cells": [
  {
   "cell_type": "markdown",
   "metadata": {},
   "source": [
    "# Sets en Pyomo"
   ]
  },
  {
   "cell_type": "code",
   "execution_count": 1,
   "metadata": {},
   "outputs": [
    {
     "data": {
      "text/html": [
       "/* This template is inspired in the one used by Lorena Barba\n",
       "in the numerical-mooc repository: https://github.com/numerical-mooc/numerical-mooc\n",
       "We thank her work and hope you also enjoy the look of the notobooks with this style */\n",
       "\n",
       "<link href='https://fonts.googleapis.com/css?family=Sofia' rel='stylesheet'>\n",
       "<style>\n",
       "\n",
       "\n",
       "\n",
       "#notebook_panel { /* main background */\n",
       "    background: #f7f7f7;\n",
       "}\n",
       "\n",
       "div.cell { /* set cell width */\n",
       "    width: 900px;\n",
       "}\n",
       "\n",
       "div #notebook { /* centre the content */\n",
       "    background: #fff; /* white background for content */\n",
       "    width: 950px;\n",
       "    margin: auto;\n",
       "    padding-left: 0em;\n",
       "}\n",
       "\n",
       "#notebook li { /* More space between bullet points */\n",
       "    margin-top:0.7em;\n",
       "}\n",
       "\n",
       "/* draw border around running cells */\n",
       "div.cell.border-box-sizing.code_cell.running { \n",
       "    border: 1px solid #111;\n",
       "}\n",
       "\n",
       "/* Put a solid color box around each cell and its output, visually linking them*/\n",
       "div.cell.code_cell {\n",
       "    font-family: 'Courier';\n",
       "    background-color: rgb(256,256,256);\n",
       "    font-size: 110%;\n",
       "    border-radius: 0px; \n",
       "    padding: 0.5em;\n",
       "    margin-left:1em;\n",
       "    margin-top: 1em;\n",
       "}\n",
       "\n",
       "div.text_cell_render{\n",
       "    font-family: 'Times New Roman';\n",
       "    line-height: 145%;\n",
       "    font-size: 125%;\n",
       "    text-align: justify;\n",
       "    font-weight: 500;\n",
       "    width:750px;\n",
       "    margin-left:auto;\n",
       "    margin-right:auto;\n",
       "}\n",
       "\n",
       "/* Formatting for header cells */\n",
       ".text_cell_render h1, .text_cell_render h2, .text_cell_render h3,\n",
       ".text_cell_render h4, .text_cell_render h5 {\n",
       "    font-family: 'Sofia', 'Ubuntu Condensed', sans-serif;\n",
       "}\n",
       "\n",
       ".text_cell_render h1 {\n",
       "    text-align: center;\n",
       "    font-weight: 600;\n",
       "    font-size: 35pt;\n",
       "    line-height: 100%;\n",
       "    color: blue;\n",
       "    margin-bottom: 0.1em;\n",
       "    margin-top: 0.3em;\n",
       "    display: block;\n",
       "}\n",
       "\n",
       ".text_cell_render h2 {\n",
       "    margin-top:16px;\n",
       "    font-size: 27pt;\n",
       "    font-weight: 550;\n",
       "    margin-bottom: 0.1em;\n",
       "    margin-top: 0.3em;\n",
       "    font-style: regular;\n",
       "    color: #477C9A;\n",
       "}\t\n",
       "\n",
       ".text_cell_render h3 {\n",
       "    font-size: 20pt;\n",
       "    font-weight: 550\n",
       "    text-align: left;\n",
       "    margin-bottom: 0.1em;\n",
       "    margin-top: 0.3em;\n",
       "    font-style: regular;\n",
       "    color:  #477C9A;\n",
       "}\n",
       "\n",
       ".text_cell_render h4 {    /*Use this for captions*/\n",
       "    font-size: 18pt;\n",
       "    font-weight: 450\n",
       "    text-align: left;\n",
       "    margin-bottom: 0.1em;\n",
       "    margin-top: 0.3em;\n",
       "    font-style: regular;\n",
       "    color:  #477C9A;\n",
       "}\n",
       "\n",
       ".text_cell_render h5 {  /*Use this for small titles*/\n",
       "    font-size: 18pt;\n",
       "    font-weight: 550;\n",
       "    color: rgb(163,0,0);\n",
       "    font-style: italic;\n",
       "    margin-bottom: .1em;\n",
       "    margin-top: 0.8em;\n",
       "    display: block;\n",
       "    color:  #7E7D7D;\n",
       "}\n",
       "\n",
       ".text_cell_render h6 { /*use this for copyright note*/\n",
       "    font-family: 'Ubuntu Condensed', sans-serif;\n",
       "    font-weight: 300;\n",
       "    font-size: 14pt;\n",
       "    line-height: 100%;\n",
       "    color: #252525;\n",
       "    text-align: right;\n",
       "    margin-bottom: 1px;\n",
       "    margin-top: 1px;\n",
       "}\n",
       "\n",
       ".CodeMirror{\n",
       "        font-family: 'Duru Sans', sans-serif;\n",
       "        font-size: 100%;\n",
       "}\n",
       "\n",
       "</style>\n",
       "<script>\n",
       "    MathJax.Hub.Config({\n",
       "                        TeX: {\n",
       "                           extensions: [\"AMSmath.js\"],\n",
       "                           equationNumbers: { autoNumber: \"AMS\", useLabelIds: true}\n",
       "                           },\n",
       "                tex2jax: {\n",
       "                    inlineMath: [ ['$','$'], [\"\\\\(\",\"\\\\)\"] ],\n",
       "                    displayMath: [ ['$$','$$'], [\"\\\\[\",\"\\\\]\"] ]\n",
       "                },\n",
       "                displayAlign: 'center', // Change this to 'center' to center equations.\n",
       "                \"HTML-CSS\": {\n",
       "                    styles: {'.MathJax_Display': {\"margin\": 4}}\n",
       "                }\n",
       "        });\n",
       "</script>\n"
      ],
      "text/plain": [
       "<IPython.core.display.HTML object>"
      ]
     },
     "execution_count": 1,
     "metadata": {},
     "output_type": "execute_result"
    }
   ],
   "source": [
    "# Esta celda da el estilo al notebook\n",
    "from IPython.core.display import HTML\n",
    "css_folder = r'Styles_for_JN'\n",
    "css_style = 'style_1.css'\n",
    "css_file = css_folder + '\\\\' + css_style\n",
    "HTML(open(css_file, \"r\").read())"
   ]
  },
  {
   "cell_type": "markdown",
   "metadata": {},
   "source": [
    " Los sets o conjuntos son un componente fundamental en cualquier lenguage de modelado algebraico (AML)\n",
    "Un Set es una collección de datos (numéricos o alfanuméricos) que se utiliza para especificar los índices válidos para\n",
    "otros componentes indexados (e.g. variables) del modelo.\n",
    "\n",
    " I = model_name.I = Set ([initialize], [within/domain], [ordered])\n"
   ]
  },
  {
   "cell_type": "code",
   "execution_count": 2,
   "metadata": {
    "collapsed": true
   },
   "outputs": [],
   "source": [
    "from  pyomo.environ import *\n",
    "m = ConcreteModel()"
   ]
  },
  {
   "cell_type": "markdown",
   "metadata": {},
   "source": [
    "Crear el siguiente conjunto \n",
    "$$A = \\{1, 2, 3, 4\\}$$\n"
   ]
  },
  {
   "cell_type": "code",
   "execution_count": 3,
   "metadata": {
    "collapsed": true
   },
   "outputs": [],
   "source": [
    "A = m.A = Set(initialize = [1, 2, 3, 4])"
   ]
  },
  {
   "cell_type": "markdown",
   "metadata": {},
   "source": [
    "Para visualizar el objeto\n"
   ]
  },
  {
   "cell_type": "code",
   "execution_count": 4,
   "metadata": {},
   "outputs": [
    {
     "name": "stdout",
     "output_type": "stream",
     "text": [
      "A : Dim=0, Dimen=1, Size=4, Domain=None, Ordered=False, Bounds=(1, 4)\n",
      "    [1, 2, 3, 4]\n"
     ]
    }
   ],
   "source": [
    "A.pprint()"
   ]
  },
  {
   "cell_type": "markdown",
   "metadata": {
    "collapsed": true
   },
   "source": [
    "Los conjuntos secuenciales de numeros enteros son comunes\n",
    "Crea el siguiente conjunto:\n",
    "$$B = \\{20, 21, ..., 40\\}$$"
   ]
  },
  {
   "cell_type": "code",
   "execution_count": 5,
   "metadata": {
    "collapsed": true
   },
   "outputs": [],
   "source": [
    "B = m.B = RangeSet(20,40)"
   ]
  },
  {
   "cell_type": "code",
   "execution_count": 6,
   "metadata": {},
   "outputs": [
    {
     "name": "stdout",
     "output_type": "stream",
     "text": [
      "B : Dim=0, Dimen=1, Size=21, Domain=Integers, Ordered=True, Bounds=(20, 40)\n",
      "    Virtual\n"
     ]
    }
   ],
   "source": [
    "B.pprint()"
   ]
  },
  {
   "cell_type": "code",
   "execution_count": 7,
   "metadata": {},
   "outputs": [
    {
     "name": "stdout",
     "output_type": "stream",
     "text": [
      "20\n",
      "21\n",
      "22\n",
      "23\n",
      "24\n",
      "25\n",
      "26\n",
      "27\n",
      "28\n",
      "29\n",
      "30\n",
      "31\n",
      "32\n",
      "33\n",
      "34\n",
      "35\n",
      "36\n",
      "37\n",
      "38\n",
      "39\n",
      "40\n"
     ]
    }
   ],
   "source": [
    "for i in B:\n",
    "    print(i)"
   ]
  },
  {
   "cell_type": "markdown",
   "metadata": {
    "collapsed": true
   },
   "source": [
    "Hay que tener en cuenta que python range es 0-based y Range Set es 1-Based"
   ]
  },
  {
   "cell_type": "code",
   "execution_count": 8,
   "metadata": {},
   "outputs": [
    {
     "name": "stdout",
     "output_type": "stream",
     "text": [
      "C : Dim=0, Dimen=1, Size=20, Domain=None, Ordered=False, Bounds=(20, 39)\n",
      "    [20, 21, 22, 23, 24, 25, 26, 27, 28, 29, 30, 31, 32, 33, 34, 35, 36, 37, 38, 39]\n"
     ]
    }
   ],
   "source": [
    "C = m.C = Set(initialize = range(20,40))\n",
    "C.pprint()"
   ]
  },
  {
   "cell_type": "markdown",
   "metadata": {
    "collapsed": true
   },
   "source": [
    "Crear el siguiente conjunto con elementos alfanuméricos\n",
    "$$D = \\{d1, d2, d3, d4\\}$$"
   ]
  },
  {
   "cell_type": "code",
   "execution_count": 9,
   "metadata": {},
   "outputs": [
    {
     "name": "stdout",
     "output_type": "stream",
     "text": [
      "D : Dim=0, Dimen=1, Size=4, Domain=None, Ordered=False, Bounds=None\n",
      "    ['d1', 'd2', 'd3', 'd4']\n"
     ]
    }
   ],
   "source": [
    "D = m.D = Set(initialize = ['d1', 'd2', 'd3', 'd4'])\n",
    "D.pprint()"
   ]
  },
  {
   "cell_type": "markdown",
   "metadata": {
    "collapsed": true
   },
   "source": [
    "Para acceder a un elemento un set:"
   ]
  },
  {
   "cell_type": "code",
   "execution_count": 10,
   "metadata": {},
   "outputs": [
    {
     "ename": "ValueError",
     "evalue": "Cannot index an unordered set 'D'",
     "output_type": "error",
     "traceback": [
      "\u001b[1;31m---------------------------------------------------------------------------\u001b[0m",
      "\u001b[1;31mValueError\u001b[0m                                Traceback (most recent call last)",
      "\u001b[1;32m<ipython-input-10-fe8d4ab48c46>\u001b[0m in \u001b[0;36m<module>\u001b[1;34m()\u001b[0m\n\u001b[1;32m----> 1\u001b[1;33m \u001b[0mD\u001b[0m\u001b[1;33m[\u001b[0m\u001b[1;36m3\u001b[0m\u001b[1;33m]\u001b[0m\u001b[1;33m\u001b[0m\u001b[0m\n\u001b[0m",
      "\u001b[1;32m~\\Anaconda3\\lib\\site-packages\\pyomo\\core\\base\\sets.py\u001b[0m in \u001b[0;36m__getitem__\u001b[1;34m(self, key)\u001b[0m\n\u001b[0;32m   1298\u001b[0m         \u001b[0mThis\u001b[0m \u001b[0mmethod\u001b[0m \u001b[0mgenerates\u001b[0m \u001b[0man\u001b[0m \u001b[0mexception\u001b[0m \u001b[0mbecause\u001b[0m \u001b[0mthe\u001b[0m \u001b[0mset\u001b[0m \u001b[1;32mis\u001b[0m \u001b[0munordered\u001b[0m\u001b[1;33m.\u001b[0m\u001b[1;33m\u001b[0m\u001b[0m\n\u001b[0;32m   1299\u001b[0m         \"\"\"\n\u001b[1;32m-> 1300\u001b[1;33m         \u001b[1;32mreturn\u001b[0m \u001b[0m_SetData\u001b[0m\u001b[1;33m.\u001b[0m\u001b[0m__getitem__\u001b[0m\u001b[1;33m(\u001b[0m\u001b[0mself\u001b[0m\u001b[1;33m,\u001b[0m \u001b[0mkey\u001b[0m\u001b[1;33m)\u001b[0m\u001b[1;33m\u001b[0m\u001b[0m\n\u001b[0m\u001b[0;32m   1301\u001b[0m \u001b[1;33m\u001b[0m\u001b[0m\n\u001b[0;32m   1302\u001b[0m     \u001b[1;32mdef\u001b[0m \u001b[0m_set_contains\u001b[0m\u001b[1;33m(\u001b[0m\u001b[0mself\u001b[0m\u001b[1;33m,\u001b[0m \u001b[0melement\u001b[0m\u001b[1;33m)\u001b[0m\u001b[1;33m:\u001b[0m\u001b[1;33m\u001b[0m\u001b[0m\n",
      "\u001b[1;32m~\\Anaconda3\\lib\\site-packages\\pyomo\\core\\base\\sets.py\u001b[0m in \u001b[0;36m__getitem__\u001b[1;34m(self, key)\u001b[0m\n\u001b[0;32m    226\u001b[0m         \u001b[0mThis\u001b[0m \u001b[0mmethod\u001b[0m \u001b[0mgenerates\u001b[0m \u001b[0man\u001b[0m \u001b[0mexception\u001b[0m \u001b[0mbecause\u001b[0m \u001b[0mthe\u001b[0m \u001b[0mset\u001b[0m \u001b[1;32mis\u001b[0m \u001b[0munordered\u001b[0m\u001b[1;33m.\u001b[0m\u001b[1;33m\u001b[0m\u001b[0m\n\u001b[0;32m    227\u001b[0m         \"\"\"\n\u001b[1;32m--> 228\u001b[1;33m         \u001b[1;32mraise\u001b[0m \u001b[0mValueError\u001b[0m\u001b[1;33m(\u001b[0m\u001b[1;34m\"Cannot index an unordered set '%s'\"\u001b[0m \u001b[1;33m%\u001b[0m \u001b[0mself\u001b[0m\u001b[1;33m.\u001b[0m\u001b[0m_component\u001b[0m\u001b[1;33m(\u001b[0m\u001b[1;33m)\u001b[0m\u001b[1;33m.\u001b[0m\u001b[0mname\u001b[0m\u001b[1;33m)\u001b[0m\u001b[1;33m\u001b[0m\u001b[0m\n\u001b[0m\u001b[0;32m    229\u001b[0m \u001b[1;33m\u001b[0m\u001b[0m\n\u001b[0;32m    230\u001b[0m     \u001b[1;32mdef\u001b[0m \u001b[0mbounds\u001b[0m\u001b[1;33m(\u001b[0m\u001b[0mself\u001b[0m\u001b[1;33m)\u001b[0m\u001b[1;33m:\u001b[0m\u001b[1;33m\u001b[0m\u001b[0m\n",
      "\u001b[1;31mValueError\u001b[0m: Cannot index an unordered set 'D'"
     ]
    }
   ],
   "source": [
    "D[3]"
   ]
  },
  {
   "cell_type": "code",
   "execution_count": 11,
   "metadata": {},
   "outputs": [
    {
     "name": "stdout",
     "output_type": "stream",
     "text": [
      "WARNING: Implicitly replacing the Component attribute D (type=<class 'pyomo.core.base.sets.SimpleSet'>) on block unknown with a new Component (type=<class 'pyomo.core.base.sets.OrderedSimpleSet'>).\n",
      "\tThis is usually indicative of a modelling error.\n",
      "\tTo avoid this warning, use block.del_component() and block.add_component().\n"
     ]
    }
   ],
   "source": [
    "D = m.D = Set(initialize = ['d1', 'd2', 'd3', 'd4'], ordered = True)"
   ]
  },
  {
   "cell_type": "code",
   "execution_count": 12,
   "metadata": {},
   "outputs": [
    {
     "data": {
      "text/plain": [
       "'d3'"
      ]
     },
     "execution_count": 12,
     "metadata": {},
     "output_type": "execute_result"
    }
   ],
   "source": [
    "D[3]\n"
   ]
  },
  {
   "cell_type": "code",
   "execution_count": 13,
   "metadata": {},
   "outputs": [
    {
     "data": {
      "text/plain": [
       "24"
      ]
     },
     "execution_count": 13,
     "metadata": {},
     "output_type": "execute_result"
    }
   ],
   "source": [
    "# RangeSet es un conjunto ordenado\n",
    "B[5]\n"
   ]
  },
  {
   "cell_type": "markdown",
   "metadata": {},
   "source": [
    "### Obtención del ordinal de un set"
   ]
  },
  {
   "cell_type": "code",
   "execution_count": 14,
   "metadata": {},
   "outputs": [
    {
     "data": {
      "text/plain": [
       "3"
      ]
     },
     "execution_count": 14,
     "metadata": {},
     "output_type": "execute_result"
    }
   ],
   "source": [
    "D.ord('d3')"
   ]
  },
  {
   "cell_type": "markdown",
   "metadata": {
    "collapsed": true
   },
   "source": [
    "### Obtención del cardinal de un set"
   ]
  },
  {
   "cell_type": "code",
   "execution_count": 15,
   "metadata": {},
   "outputs": [
    {
     "data": {
      "text/plain": [
       "4"
      ]
     },
     "execution_count": 15,
     "metadata": {},
     "output_type": "execute_result"
    }
   ],
   "source": [
    "len(D)"
   ]
  },
  {
   "cell_type": "markdown",
   "metadata": {
    "collapsed": true
   },
   "source": [
    "Crear el siguiente conjunto ordenado\n",
    "$$E = \\{e1, e2, ..., e50\\}$$"
   ]
  },
  {
   "cell_type": "code",
   "execution_count": 16,
   "metadata": {
    "collapsed": true
   },
   "outputs": [],
   "source": [
    "set_e =[]\n",
    "for i in range(1,51):\n",
    "    set_e.append('e' + str(i))"
   ]
  },
  {
   "cell_type": "code",
   "execution_count": 17,
   "metadata": {
    "collapsed": true
   },
   "outputs": [],
   "source": [
    "E = m.E = Set (initialize = set_e, ordered = True)"
   ]
  },
  {
   "cell_type": "code",
   "execution_count": 18,
   "metadata": {},
   "outputs": [
    {
     "name": "stdout",
     "output_type": "stream",
     "text": [
      "E : Dim=0, Dimen=1, Size=50, Domain=None, Ordered=Insertion, Bounds=None\n",
      "    ['e1', 'e2', 'e3', 'e4', 'e5', 'e6', 'e7', 'e8', 'e9', 'e10', 'e11', 'e12', 'e13', 'e14', 'e15', 'e16', 'e17', 'e18', 'e19', 'e20', 'e21', 'e22', 'e23', 'e24', 'e25', 'e26', 'e27', 'e28', 'e29', 'e30', 'e31', 'e32', 'e33', 'e34', 'e35', 'e36', 'e37', 'e38', 'e39', 'e40', 'e41', 'e42', 'e43', 'e44', 'e45', 'e46', 'e47', 'e48', 'e49', 'e50']\n"
     ]
    }
   ],
   "source": [
    "E.pprint()"
   ]
  },
  {
   "cell_type": "markdown",
   "metadata": {},
   "source": [
    "## Operaciones con conjuntos"
   ]
  },
  {
   "cell_type": "markdown",
   "metadata": {
    "collapsed": true
   },
   "source": [
    " Unión         [|]  <br>\n",
    "Intersección [&]<br>\n",
    "Diferencia   [-]<br>\n",
    " Exclusivo-or [^]"
   ]
  },
  {
   "cell_type": "code",
   "execution_count": 19,
   "metadata": {
    "collapsed": true
   },
   "outputs": [],
   "source": [
    "F = m.F = Set(initialize = ['i1', 'i2', 'i3', 'i4'], ordered = True)\n",
    "G = m.G = Set(initialize = ['i3', 'i4', 'i5', 'i6'], ordered = True)"
   ]
  },
  {
   "cell_type": "code",
   "execution_count": 20,
   "metadata": {
    "collapsed": true
   },
   "outputs": [],
   "source": [
    "# Unión\n",
    "H = m.H = Set(initialize = F | G)"
   ]
  },
  {
   "cell_type": "code",
   "execution_count": 21,
   "metadata": {},
   "outputs": [
    {
     "name": "stdout",
     "output_type": "stream",
     "text": [
      "H : Dim=0, Dimen=1, Size=6, Domain=None, Ordered=False, Bounds=None\n",
      "    ['i1', 'i2', 'i3', 'i4', 'i5', 'i6']\n"
     ]
    }
   ],
   "source": [
    "H.pprint()"
   ]
  },
  {
   "cell_type": "code",
   "execution_count": 22,
   "metadata": {},
   "outputs": [
    {
     "name": "stdout",
     "output_type": "stream",
     "text": [
      "I : Dim=0, Dimen=1, Size=2, Domain=None, Ordered=False, Bounds=None\n",
      "    ['i3', 'i4']\n"
     ]
    }
   ],
   "source": [
    "# Intersección\n",
    "I = m.I = Set(initialize = F & G)\n",
    "I.pprint()"
   ]
  },
  {
   "cell_type": "code",
   "execution_count": 23,
   "metadata": {},
   "outputs": [
    {
     "name": "stdout",
     "output_type": "stream",
     "text": [
      "J : Dim=0, Dimen=1, Size=2, Domain=None, Ordered=False, Bounds=None\n",
      "    ['i1', 'i2']\n"
     ]
    }
   ],
   "source": [
    "# Diferencia\n",
    "J = m.J = Set(initialize = F - G)\n",
    "J.pprint()\n"
   ]
  },
  {
   "cell_type": "code",
   "execution_count": 24,
   "metadata": {},
   "outputs": [
    {
     "name": "stdout",
     "output_type": "stream",
     "text": [
      "K : Dim=0, Dimen=1, Size=4, Domain=None, Ordered=False, Bounds=None\n",
      "    ['i1', 'i2', 'i5', 'i6']\n"
     ]
    }
   ],
   "source": [
    "# O exclusivo\n",
    "K = m.K = Set (initialize = F^G)\n",
    "K.pprint()"
   ]
  },
  {
   "cell_type": "code",
   "execution_count": 25,
   "metadata": {
    "collapsed": true
   },
   "outputs": [],
   "source": [
    "# Multi dimensional sets\n",
    "\n",
    "country = m.country = Set (initialize = ['spain', 'finland', 'italy', 'germany', 'netherlands'], ordered = True)\n",
    "city    = m.city    = Set (initialize = ['malaga', 'tarragona', 'turku', 'tampere', 'rome', 'bonn', 'delft', 'denhaag'], ordered = True)"
   ]
  },
  {
   "cell_type": "code",
   "execution_count": 26,
   "metadata": {},
   "outputs": [
    {
     "name": "stdout",
     "output_type": "stream",
     "text": [
      "L : Dim=0, Dimen=2, Size=40, Domain=None, Ordered=Insertion, Bounds=None\n",
      "    [('spain', 'malaga'), ('spain', 'tarragona'), ('spain', 'turku'), ('spain', 'tampere'), ('spain', 'rome'), ('spain', 'bonn'), ('spain', 'delft'), ('spain', 'denhaag'), ('finland', 'malaga'), ('finland', 'tarragona'), ('finland', 'turku'), ('finland', 'tampere'), ('finland', 'rome'), ('finland', 'bonn'), ('finland', 'delft'), ('finland', 'denhaag'), ('italy', 'malaga'), ('italy', 'tarragona'), ('italy', 'turku'), ('italy', 'tampere'), ('italy', 'rome'), ('italy', 'bonn'), ('italy', 'delft'), ('italy', 'denhaag'), ('germany', 'malaga'), ('germany', 'tarragona'), ('germany', 'turku'), ('germany', 'tampere'), ('germany', 'rome'), ('germany', 'bonn'), ('germany', 'delft'), ('germany', 'denhaag'), ('netherlands', 'malaga'), ('netherlands', 'tarragona'), ('netherlands', 'turku'), ('netherlands', 'tampere'), ('netherlands', 'rome'), ('netherlands', 'bonn'), ('netherlands', 'delft'), ('netherlands', 'denhaag')]\n"
     ]
    }
   ],
   "source": [
    "# [ Producto cruzado ]\n",
    "L  = m.L = Set (initialize = country * city, ordered = True)\n",
    "L.pprint()"
   ]
  },
  {
   "cell_type": "code",
   "execution_count": 27,
   "metadata": {
    "collapsed": true
   },
   "outputs": [],
   "source": [
    "CC  = m.CC = Set (within = country * city, ordered = True)"
   ]
  },
  {
   "cell_type": "code",
   "execution_count": 28,
   "metadata": {},
   "outputs": [
    {
     "name": "stdout",
     "output_type": "stream",
     "text": [
      "CC : Dim=0, Dimen=2, Size=0, Domain=CC_domain, Ordered=Insertion, Bounds=None\n",
      "    []\n"
     ]
    }
   ],
   "source": [
    "CC.pprint()"
   ]
  },
  {
   "cell_type": "code",
   "execution_count": 29,
   "metadata": {
    "collapsed": true
   },
   "outputs": [],
   "source": [
    "cc_mapping = { 'spain'     : ('malaga', 'tarragona'),\n",
    "               'finland'   : ('turku', 'tampere'),\n",
    "               'italy'     : ('rome',),\n",
    "               'germany'   : ('bonn',),\n",
    "               'netherlands': ('delft', 'denhaag')}"
   ]
  },
  {
   "cell_type": "code",
   "execution_count": 30,
   "metadata": {
    "collapsed": true
   },
   "outputs": [],
   "source": [
    "for i in cc_mapping:\n",
    "    for j in cc_mapping[i]:\n",
    "        CC.add((i,j))\n",
    "        "
   ]
  },
  {
   "cell_type": "code",
   "execution_count": 31,
   "metadata": {},
   "outputs": [
    {
     "name": "stdout",
     "output_type": "stream",
     "text": [
      "CC : Dim=0, Dimen=2, Size=8, Domain=CC_domain, Ordered=Insertion, Bounds=None\n",
      "    [('spain', 'malaga'), ('spain', 'tarragona'), ('finland', 'turku'), ('finland', 'tampere'), ('italy', 'rome'), ('germany', 'bonn'), ('netherlands', 'delft'), ('netherlands', 'denhaag')]\n"
     ]
    }
   ],
   "source": [
    "CC.pprint()"
   ]
  },
  {
   "cell_type": "code",
   "execution_count": 32,
   "metadata": {
    "collapsed": true
   },
   "outputs": [],
   "source": [
    "# Otra opción es ...\n",
    "CC_2 = m.CC_2 = Set(within = country * city, initialize = [\n",
    "        ('spain', 'malaga'), ('spain', 'tarragona'), ('finland', 'turku')\n",
    "    ], ordered = True)"
   ]
  },
  {
   "cell_type": "code",
   "execution_count": 33,
   "metadata": {},
   "outputs": [
    {
     "name": "stdout",
     "output_type": "stream",
     "text": [
      "CC_2 : Dim=0, Dimen=2, Size=3, Domain=CC_2_domain, Ordered=Insertion, Bounds=None\n",
      "    [('spain', 'malaga'), ('spain', 'tarragona'), ('finland', 'turku')]\n"
     ]
    }
   ],
   "source": [
    "CC_2.pprint()\n"
   ]
  },
  {
   "cell_type": "markdown",
   "metadata": {
    "collapsed": true
   },
   "source": [
    "## Filtros"
   ]
  },
  {
   "cell_type": "markdown",
   "metadata": {
    "collapsed": true
   },
   "source": [
    "Ejemplo del conjunto E aneterior ( E = {e1, e2, ..., e50}) tomar únicamente los \n",
    "elementos pares"
   ]
  },
  {
   "cell_type": "code",
   "execution_count": 34,
   "metadata": {},
   "outputs": [
    {
     "name": "stdout",
     "output_type": "stream",
     "text": [
      "['e2', 'e4', 'e6', 'e8', 'e10', 'e12', 'e14', 'e16', 'e18', 'e20', 'e22', 'e24', 'e26', 'e28', 'e30', 'e32', 'e34', 'e36', 'e38', 'e40', 'e42', 'e44', 'e46', 'e48', 'e50']\n"
     ]
    }
   ],
   "source": [
    "even_elements = []\n",
    "index = 0\n",
    "for i in set_e:\n",
    "    if index % 2 != 0:\n",
    "        even_elements.append(i)\n",
    "    index += 1\n",
    "print(even_elements)"
   ]
  },
  {
   "cell_type": "code",
   "execution_count": 35,
   "metadata": {
    "scrolled": true
   },
   "outputs": [
    {
     "name": "stdout",
     "output_type": "stream",
     "text": [
      "P : Dim=0, Dimen=1, Size=25, Domain=None, Ordered=Insertion, Bounds=None\n",
      "    ['e1', 'e3', 'e5', 'e7', 'e9', 'e11', 'e13', 'e15', 'e17', 'e19', 'e21', 'e23', 'e25', 'e27', 'e29', 'e31', 'e33', 'e35', 'e37', 'e39', 'e41', 'e43', 'e45', 'e47', 'e49']\n"
     ]
    }
   ],
   "source": [
    "def filter_rule (m, i):\n",
    "    return i not in even_elements\n",
    "P = m.P = Set(initialize = set_e, filter = filter_rule, ordered = True)\n",
    "P.pprint()"
   ]
  }
 ],
 "metadata": {
  "kernelspec": {
   "display_name": "Python 3",
   "language": "python",
   "name": "python3"
  },
  "language_info": {
   "codemirror_mode": {
    "name": "ipython",
    "version": 3
   },
   "file_extension": ".py",
   "mimetype": "text/x-python",
   "name": "python",
   "nbconvert_exporter": "python",
   "pygments_lexer": "ipython3",
   "version": "3.6.3"
  }
 },
 "nbformat": 4,
 "nbformat_minor": 1
}
